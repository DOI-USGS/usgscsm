{
 "cells": [
  {
   "cell_type": "code",
   "execution_count": 1,
   "metadata": {},
   "outputs": [
    {
     "ename": "ModuleNotFoundError",
     "evalue": "No module named 'pyproj'",
     "output_type": "error",
     "traceback": [
      "\u001b[0;31m---------------------------------------------------------------------------\u001b[0m",
      "\u001b[0;31mModuleNotFoundError\u001b[0m                       Traceback (most recent call last)",
      "\u001b[0;32m<ipython-input-1-7e71c9f92a96>\u001b[0m in \u001b[0;36m<module>\u001b[0;34m\u001b[0m\n\u001b[1;32m      1\u001b[0m \u001b[0;32mimport\u001b[0m \u001b[0mnumpy\u001b[0m \u001b[0;32mas\u001b[0m \u001b[0mnp\u001b[0m\u001b[0;34m\u001b[0m\u001b[0;34m\u001b[0m\u001b[0m\n\u001b[1;32m      2\u001b[0m \u001b[0mnp\u001b[0m\u001b[0;34m.\u001b[0m\u001b[0mset_printoptions\u001b[0m\u001b[0;34m(\u001b[0m\u001b[0msuppress\u001b[0m\u001b[0;34m=\u001b[0m\u001b[0;32mTrue\u001b[0m\u001b[0;34m)\u001b[0m\u001b[0;34m\u001b[0m\u001b[0;34m\u001b[0m\u001b[0m\n\u001b[0;32m----> 3\u001b[0;31m \u001b[0;32mimport\u001b[0m \u001b[0mpyproj\u001b[0m\u001b[0;34m\u001b[0m\u001b[0;34m\u001b[0m\u001b[0m\n\u001b[0m",
      "\u001b[0;31mModuleNotFoundError\u001b[0m: No module named 'pyproj'"
     ]
    }
   ],
   "source": [
    "import numpy as np\n",
    "np.set_printoptions(suppress=True)\n",
    "import pyproj"
   ]
  },
  {
   "cell_type": "code",
   "execution_count": 2,
   "metadata": {},
   "outputs": [],
   "source": [
    "def reproject(record, semi_major, semi_minor, source_proj, dest_proj, **kwargs):\n",
    "    \"\"\"\n",
    "    Thin wrapper around PyProj's Transform() function to transform 1 or more three-dimensional\n",
    "    point from one coordinate system to another. If converting between Cartesian\n",
    "    body-centered body-fixed (BCBF) coordinates and Longitude/Latitude/Altitude coordinates,\n",
    "    the values input for semi-major and semi-minor axes determine whether latitudes are\n",
    "    planetographic or planetocentric and determine the shape of the datum for altitudes.\n",
    "    If semi_major == semi_minor, then latitudes are interpreted/created as planetocentric\n",
    "    and altitudes are interpreted/created as referenced to a spherical datum.\n",
    "    If semi_major != semi_minor, then latitudes are interpreted/created as planetographic\n",
    "    and altitudes are interpreted/created as referenced to an ellipsoidal datum.\n",
    "    Parameters\n",
    "    ----------\n",
    "    record : object\n",
    "          Pandas series object\n",
    "    semi_major : float\n",
    "              Radius from the center of the body to the equater\n",
    "    semi_minor : float\n",
    "              Radius from the pole to the center of mass\n",
    "    source_proj : str\n",
    "                      Pyproj string that defines a projection space ie. 'geocent'\n",
    "    dest_proj : str\n",
    "                   Pyproj string that defines a project space ie. 'latlon'\n",
    "    Returns\n",
    "    -------\n",
    "    : list\n",
    "    Transformed coordinates as y, x, z\n",
    "    \"\"\"\n",
    "    source_pyproj = pyproj.Proj(proj = source_proj, a = semi_major, b = semi_minor)\n",
    "    dest_pyproj = pyproj.Proj(proj = dest_proj, a = semi_major, b = semi_minor)\n",
    "\n",
    "    y, x, z = pyproj.transform(source_pyproj, dest_pyproj, record[0], record[1], record[2], **kwargs)\n",
    "\n",
    "    return y, x, z"
   ]
  },
  {
   "cell_type": "markdown",
   "metadata": {},
   "source": [
    "## Input Data"
   ]
  },
  {
   "cell_type": "code",
   "execution_count": 10,
   "metadata": {},
   "outputs": [],
   "source": [
    "semi_major = 1100\n",
    "semi_minor = 1000\n",
    "altitude = 50\n",
    "lon = 35\n",
    "lat = 30\n",
    "radius = 0"
   ]
  },
  {
   "cell_type": "markdown",
   "metadata": {},
   "source": [
    "## Compute the quaternion (as x, y, z, w)"
   ]
  },
  {
   "cell_type": "code",
   "execution_count": 11,
   "metadata": {},
   "outputs": [
    {
     "name": "stdout",
     "output_type": "stream",
     "text": [
      "[ 0.49673176 -0.70940648  0.         -0.5       ]\n"
     ]
    }
   ],
   "source": [
    "ground_pt = np.asarray(reproject([lon, lat, radius], semi_major, semi_minor, 'latlong', 'geocent'))\n",
    "sensor_position = np.asarray(reproject([lon, lat, radius + altitude], semi_major, semi_minor, 'latlong', 'geocent'))\n",
    "look_vec = ground_pt - sensor_position\n",
    "look_vec = look_vec / np.linalg.norm(look_vec)\n",
    "quat = np.zeros(4)\n",
    "quat[:3] = np.cross(np.array([0, 0, 1]), look_vec)\n",
    "quat[3] = np.dot(np.array([0, 0, 1]), look_vec)"
   ]
  },
  {
   "cell_type": "code",
   "execution_count": null,
   "metadata": {},
   "outputs": [],
   "source": []
  }
 ],
 "metadata": {
  "kernelspec": {
   "display_name": "Python 3",
   "language": "python",
   "name": "python3"
  },
  "language_info": {
   "codemirror_mode": {
    "name": "ipython",
    "version": 3
   },
   "file_extension": ".py",
   "mimetype": "text/x-python",
   "name": "python",
   "nbconvert_exporter": "python",
   "pygments_lexer": "ipython3",
   "version": "3.7.1"
  }
 },
 "nbformat": 4,
 "nbformat_minor": 2
}
