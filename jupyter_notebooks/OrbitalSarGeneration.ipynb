{
 "cells": [
  {
   "cell_type": "code",
   "execution_count": 7,
   "metadata": {},
   "outputs": [],
   "source": [
    "import numpy as np\n",
    "from itertools import product"
   ]
  },
  {
   "cell_type": "code",
   "execution_count": 2,
   "metadata": {},
   "outputs": [],
   "source": [
    "radius   = 1737400\n",
    "alt      = 2000000\n",
    "ground   = 7.5\n",
    "exposure = 0.005\n",
    "samples  = 1000\n",
    "lines    = 1000"
   ]
  },
  {
   "cell_type": "code",
   "execution_count": 30,
   "metadata": {},
   "outputs": [],
   "source": [
    "sensor_rad = radius + alt\n",
    "angle_per_line = ground / radius\n",
    "angle_per_samp = angle_per_line\n",
    "angle_per_Second = angle_per_line / exposure"
   ]
  },
  {
   "cell_type": "code",
   "execution_count": 4,
   "metadata": {},
   "outputs": [],
   "source": [
    "positions = []\n",
    "velocities = []\n",
    "for time in np.arange(0, (lines+1) * exposure, 0.25):\n",
    "    angle = angle_per_Second * time\n",
    "    positions.append([np.cos(angle), 0, -np.sin(angle)])\n",
    "    velocities.append([-np.sin(angle), 0, -np.cos(angle)])\n",
    "positions = sensor_rad * np.array(positions)\n",
    "velocities = sensor_rad * np.array(velocities)"
   ]
  },
  {
   "cell_type": "code",
   "execution_count": 5,
   "metadata": {},
   "outputs": [
    {
     "name": "stdout",
     "output_type": "stream",
     "text": [
      "[[ 3.73740000e+06  0.00000000e+00 -0.00000000e+00]\n",
      " [ 3.73739991e+06  0.00000000e+00 -8.06679515e+02]\n",
      " [ 3.73739965e+06  0.00000000e+00 -1.61335899e+03]\n",
      " [ 3.73739922e+06  0.00000000e+00 -2.42003839e+03]\n",
      " [ 3.73739861e+06  0.00000000e+00 -3.22671768e+03]\n",
      " [ 3.73739782e+06  0.00000000e+00 -4.03339682e+03]\n",
      " [ 3.73739687e+06  0.00000000e+00 -4.84007577e+03]\n",
      " [ 3.73739573e+06  0.00000000e+00 -5.64675450e+03]\n",
      " [ 3.73739443e+06  0.00000000e+00 -6.45343296e+03]\n",
      " [ 3.73739295e+06  0.00000000e+00 -7.26011112e+03]\n",
      " [ 3.73739129e+06  0.00000000e+00 -8.06678895e+03]\n",
      " [ 3.73738947e+06  0.00000000e+00 -8.87346640e+03]\n",
      " [ 3.73738746e+06  0.00000000e+00 -9.68014343e+03]\n",
      " [ 3.73738529e+06  0.00000000e+00 -1.04868200e+04]\n",
      " [ 3.73738294e+06  0.00000000e+00 -1.12934961e+04]\n",
      " [ 3.73738041e+06  0.00000000e+00 -1.21001717e+04]\n",
      " [ 3.73737771e+06  0.00000000e+00 -1.29068467e+04]\n",
      " [ 3.73737484e+06  0.00000000e+00 -1.37135211e+04]\n",
      " [ 3.73737179e+06  0.00000000e+00 -1.45201949e+04]\n",
      " [ 3.73736857e+06  0.00000000e+00 -1.53268679e+04]\n",
      " [ 3.73736518e+06  0.00000000e+00 -1.61335403e+04]]\n"
     ]
    }
   ],
   "source": [
    "print(positions)"
   ]
  },
  {
   "cell_type": "code",
   "execution_count": 6,
   "metadata": {},
   "outputs": [
    {
     "name": "stdout",
     "output_type": "stream",
     "text": [
      "[[-0.00000000e+00  0.00000000e+00 -3.73740000e+06]\n",
      " [-8.06679515e+02  0.00000000e+00 -3.73739991e+06]\n",
      " [-1.61335899e+03  0.00000000e+00 -3.73739965e+06]\n",
      " [-2.42003839e+03  0.00000000e+00 -3.73739922e+06]\n",
      " [-3.22671768e+03  0.00000000e+00 -3.73739861e+06]\n",
      " [-4.03339682e+03  0.00000000e+00 -3.73739782e+06]\n",
      " [-4.84007577e+03  0.00000000e+00 -3.73739687e+06]\n",
      " [-5.64675450e+03  0.00000000e+00 -3.73739573e+06]\n",
      " [-6.45343296e+03  0.00000000e+00 -3.73739443e+06]\n",
      " [-7.26011112e+03  0.00000000e+00 -3.73739295e+06]\n",
      " [-8.06678895e+03  0.00000000e+00 -3.73739129e+06]\n",
      " [-8.87346640e+03  0.00000000e+00 -3.73738947e+06]\n",
      " [-9.68014343e+03  0.00000000e+00 -3.73738746e+06]\n",
      " [-1.04868200e+04  0.00000000e+00 -3.73738529e+06]\n",
      " [-1.12934961e+04  0.00000000e+00 -3.73738294e+06]\n",
      " [-1.21001717e+04  0.00000000e+00 -3.73738041e+06]\n",
      " [-1.29068467e+04  0.00000000e+00 -3.73737771e+06]\n",
      " [-1.37135211e+04  0.00000000e+00 -3.73737484e+06]\n",
      " [-1.45201949e+04  0.00000000e+00 -3.73737179e+06]\n",
      " [-1.53268679e+04  0.00000000e+00 -3.73736857e+06]\n",
      " [-1.61335403e+04  0.00000000e+00 -3.73736518e+06]]\n"
     ]
    }
   ],
   "source": [
    "print(velocities)"
   ]
  },
  {
   "cell_type": "code",
   "execution_count": 31,
   "metadata": {},
   "outputs": [],
   "source": [
    "ground_points = np.zeros((int(lines/10) + 1, int(samples/10) + 1, 3))\n",
    "counter = 0\n",
    "for line, sample in product(np.arange(0, lines + 1, 10), np.arange(0, samples + 1, 10)):\n",
    "    lat = -angle_per_line * line\n",
    "    lon = angle_per_samp * sample\n",
    "    sub_sc_point = [np.cos(lat) * np.cos(lon), np.cos(lat) * np.sin(lon), np.sin(lat)]\n",
    "    ground_points[int(line/10), int(sample/10), :] = sub_sc_point\n",
    "ground_points = radius * ground_points"
   ]
  },
  {
   "cell_type": "code",
   "execution_count": 32,
   "metadata": {
    "scrolled": false
   },
   "outputs": [
    {
     "name": "stdout",
     "output_type": "stream",
     "text": [
      "[[1737400.         1737399.9983812  1737399.99352481 ... 1737384.45308523\n",
      "  1737384.13418295 1737383.8120431 ]\n",
      " [1737399.9983812  1737399.9967624  1737399.99190601 ... 1737384.45146645\n",
      "  1737384.13256416 1737383.81042431]\n",
      " [1737399.99352481 1737399.99190601 1737399.98704961 ... 1737384.4466101\n",
      "  1737384.12770781 1737383.80556796]\n",
      " ...\n",
      " [1737384.45308523 1737384.45146645 1737384.4466101  ... 1737368.90630959\n",
      "  1737368.58741015 1737368.26527319]\n",
      " [1737384.13418295 1737384.13256416 1737384.12770781 ... 1737368.58741015\n",
      "  1737368.26851078 1737367.94637387]\n",
      " [1737383.8120431  1737383.81042431 1737383.80556796 ... 1737368.26527319\n",
      "  1737367.94637387 1737367.62423702]]\n"
     ]
    }
   ],
   "source": [
    "print(ground_points[:, :, 0])"
   ]
  },
  {
   "cell_type": "code",
   "execution_count": 35,
   "metadata": {},
   "outputs": [
    {
     "name": "stdout",
     "output_type": "stream",
     "text": [
      "[1737391.90602155    3749.98835331   -3749.99708833]\n"
     ]
    }
   ],
   "source": [
    "print(ground_points[50, 50])"
   ]
  },
  {
   "cell_type": "code",
   "execution_count": 67,
   "metadata": {},
   "outputs": [],
   "source": [
    "samp_range = np.arange(0, samples+0.00000001, 0.0001)"
   ]
  },
  {
   "cell_type": "code",
   "execution_count": 68,
   "metadata": {},
   "outputs": [],
   "source": [
    "lons = samp_range * angle_per_samp\n",
    "gps = radius * np.vstack([np.cos(lons), np.sin(lons), 0.0 * lons]).T\n",
    "sensor_pos = positions[0]\n",
    "slant_ranges = np.linalg.norm(gps - sensor_pos, axis=1)\n",
    "ground_ranges = samp_range * ground"
   ]
  },
  {
   "cell_type": "code",
   "execution_count": 69,
   "metadata": {},
   "outputs": [
    {
     "name": "stdout",
     "output_type": "stream",
     "text": [
      "[2000000.0000039602, -1.0504347070801814e-08, 5.377926500384916e-07, -1.3072206620088014e-15]\n"
     ]
    }
   ],
   "source": [
    "print(list(np.polynomial.polynomial.polyfit(ground_ranges, slant_ranges, 3)))"
   ]
  },
  {
   "cell_type": "code",
   "execution_count": null,
   "metadata": {},
   "outputs": [],
   "source": []
  }
 ],
 "metadata": {
  "kernelspec": {
   "display_name": "Python 3",
   "language": "python",
   "name": "python3"
  },
  "language_info": {
   "codemirror_mode": {
    "name": "ipython",
    "version": 3
   },
   "file_extension": ".py",
   "mimetype": "text/x-python",
   "name": "python",
   "nbconvert_exporter": "python",
   "pygments_lexer": "ipython3",
   "version": "3.7.1"
  }
 },
 "nbformat": 4,
 "nbformat_minor": 4
}
