{
 "cells": [
  {
   "cell_type": "code",
   "execution_count": 2,
   "metadata": {},
   "outputs": [],
   "source": [
    "import numpy as np\n",
    "np.set_printoptions(suppress=True)"
   ]
  },
  {
   "cell_type": "code",
   "execution_count": 3,
   "metadata": {},
   "outputs": [],
   "source": [
    "radius = 10 # km\n",
    "altitude = 9990 # km\n",
    "detector_size = 0.1 # mm\n",
    "focal_length = 50 # mm\n",
    "lines = 16\n",
    "exposure_duration = 0.1 # seconds"
   ]
  },
  {
   "cell_type": "code",
   "execution_count": 4,
   "metadata": {},
   "outputs": [
    {
     "name": "stdout",
     "output_type": "stream",
     "text": [
      "[1050.    0.   -0.]\n",
      "[1049.99999524    0.           -0.1       ]\n",
      "[1049.99998095    0.           -0.2       ]\n",
      "[1049.99995714    0.           -0.3       ]\n",
      "[1049.99992381    0.           -0.39999999]\n",
      "[1049.99988095    0.           -0.49999998]\n",
      "[1049.99982857    0.           -0.59999997]\n",
      "[1049.99976667    0.           -0.69999995]\n",
      "[1049.99969524    0.           -0.79999992]\n",
      "[1049.99961429    0.           -0.89999989]\n",
      "[1049.99952381    0.           -0.99999985]\n",
      "[1049.99942381    0.           -1.0999998 ]\n",
      "[1049.99931429    0.           -1.19999974]\n",
      "[1049.99919524    0.           -1.29999967]\n",
      "[1049.99906667    0.           -1.39999959]\n",
      "[1049.99892857    0.           -1.49999949]\n",
      "[   -0.     0. -1050.]\n",
      "[   -0.1            0.         -1049.99999524]\n",
      "[   -0.2            0.         -1049.99998095]\n",
      "[   -0.3            0.         -1049.99995714]\n",
      "[   -0.39999999     0.         -1049.99992381]\n",
      "[   -0.49999998     0.         -1049.99988095]\n",
      "[   -0.59999997     0.         -1049.99982857]\n",
      "[   -0.69999995     0.         -1049.99976667]\n",
      "[   -0.79999992     0.         -1049.99969524]\n",
      "[   -0.89999989     0.         -1049.99961429]\n",
      "[   -0.99999985     0.         -1049.99952381]\n",
      "[   -1.0999998      0.         -1049.99942381]\n",
      "[   -1.19999974     0.         -1049.99931429]\n",
      "[   -1.29999967     0.         -1049.99919524]\n",
      "[   -1.39999959     0.         -1049.99906667]\n",
      "[   -1.49999949     0.         -1049.99892857]\n",
      "[ 0.         -0.70710678  0.          0.70710678]\n",
      "[ 0.         -0.70707311  0.          0.70714045]\n",
      "[ 0.         -0.70703943  0.          0.70717412]\n",
      "[ 0.         -0.70700576  0.          0.70720779]\n",
      "[ 0.         -0.70697208  0.          0.70724146]\n",
      "[ 0.         -0.7069384   0.          0.70727512]\n",
      "[ 0.         -0.70690472  0.          0.70730878]\n",
      "[ 0.         -0.70687104  0.          0.70734244]\n",
      "[ 0.         -0.70683736  0.          0.7073761 ]\n",
      "[ 0.         -0.70680367  0.          0.70740976]\n",
      "[ 0.         -0.70676998  0.          0.70744342]\n",
      "[ 0.         -0.70673629  0.          0.70747707]\n",
      "[ 0.         -0.7067026   0.          0.70751073]\n",
      "[ 0.         -0.70666891  0.          0.70754438]\n",
      "[ 0.         -0.70663522  0.          0.70757803]\n",
      "[ 0.         -0.70660152  0.          0.70761168]\n"
     ]
    }
   ],
   "source": [
    "positions = []\n",
    "velocities = []\n",
    "quats = []\n",
    "for i in np.arange(0,16):\n",
    "    angle = i*detector_size/(radius+altitude)\n",
    "    position = (radius+altitude) * np.array([np.cos(angle), 0, -np.sin(angle)])\n",
    "    positions.append(position)\n",
    "    velocity = (radius+altitude) * np.array([-np.sin(angle), 0, -np.cos(angle)])\n",
    "    velocities.append(velocity)\n",
    "    camera_angle = -np.pi/2 + angle\n",
    "    quat = np.array([0, np.sin(camera_angle/2), 0, np.cos(camera_angle/2)])\n",
    "    quats.append(quat)\n",
    "for pos in positions:\n",
    "    print(pos)\n",
    "for vel in velocities:\n",
    "    print(vel)\n",
    "for quat in quats:\n",
    "    print(quat)"
   ]
  },
  {
   "cell_type": "code",
   "execution_count": null,
   "metadata": {},
   "outputs": [],
   "source": []
  }
 ],
 "metadata": {
  "kernelspec": {
   "display_name": "Python 3",
   "language": "python",
   "name": "python3"
  },
  "language_info": {
   "codemirror_mode": {
    "name": "ipython",
    "version": 3
   },
   "file_extension": ".py",
   "mimetype": "text/x-python",
   "name": "python",
   "nbconvert_exporter": "python",
   "pygments_lexer": "ipython3",
   "version": "3.7.1"
  }
 },
 "nbformat": 4,
 "nbformat_minor": 2
}
